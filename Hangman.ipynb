{
 "cells": [
  {
   "cell_type": "code",
   "execution_count": null,
   "id": "d49cce6f",
   "metadata": {},
   "outputs": [
    {
     "name": "stdout",
     "output_type": "stream",
     "text": [
      "\n",
      "         _                                             \n",
      "        | |                                            \n",
      "        | |___    __ _      __ __    __ _     _____      __       ___  \n",
      "        |  _  |  / _  |    |  _  \\  / _  |  /_   _ \\   /  _\\    |  _ \\ \n",
      "        | | | | | (_| |_   | | | | | (_| |  | | | | | | (_| |_  | | | |\n",
      "        |_| |_|  \\______|  |_| |_|  \\___ |  |_| | |_|  \\______| |_| |_|\n",
      "                                     __/ |                      \n",
      "                                    |___/ \n",
      "\n",
      "        \n"
     ]
    }
   ],
   "source": [
    "import random\n",
    "\n",
    "guess_list = ['Almond', 'Banana', 'Tomato', 'Carrot', 'Orange', 'Potato', 'Radish']\n",
    "word = random.choice(guess_list).lower()\n",
    "letters = len(word)\n",
    "game_over = False\n",
    "tries = 6\n",
    "\n",
    "print('''\n",
    "         _                                             \n",
    "        | |                                            \n",
    "        | |___    __ _      __ __    __ _     _____      __       ___  \n",
    "        |  _  |  / _  |    |  _  \\  / _  |  /_   _ \\   /  _\\    |  _ \\ \n",
    "        | | | | | (_| |_   | | | | | (_| |  | | | | | | (_| |_  | | | |\n",
    "        |_| |_|  \\______|  |_| |_|  \\___ |  |_| | |_|  \\______| |_| |_|\n",
    "                                     __/ |                      \n",
    "                                    |___/ \n",
    "\n",
    "        ''')\n",
    "\n",
    "result = []\n",
    "\n",
    "for _ in range(letters):\n",
    "    result += '_'\n",
    "    \n",
    "while not game_over:\n",
    "    guess = input('Guess a letter: ').lower()\n",
    "    \n",
    "    if guess in result:\n",
    "        print(f'The letter you guessed is {guess}')\n",
    "        \n",
    "    for position in range(letters):\n",
    "        letter = word[position]\n",
    "        if letter == guess:\n",
    "            result[position] = letter\n",
    "    \n",
    "    if guess not in word:\n",
    "        print(f'You guessed {guess}, This is not in the word \\n Try Again')\n",
    "        tries -= 1\n",
    "        if tries == 0:\n",
    "            game_over = True\n",
    "            print(\"Game Over, You Lost\")\n",
    "        \n",
    "    print(' '.join(result))\n",
    "    if '_' not in result:\n",
    "        game_over = True\n",
    "        print('You Won, Congratulations')\n",
    "        "
   ]
  },
  {
   "cell_type": "code",
   "execution_count": null,
   "id": "3ae68832",
   "metadata": {},
   "outputs": [],
   "source": []
  }
 ],
 "metadata": {
  "kernelspec": {
   "display_name": "Python 3",
   "language": "python",
   "name": "python3"
  },
  "language_info": {
   "codemirror_mode": {
    "name": "ipython",
    "version": 3
   },
   "file_extension": ".py",
   "mimetype": "text/x-python",
   "name": "python",
   "nbconvert_exporter": "python",
   "pygments_lexer": "ipython3",
   "version": "3.8.8"
  }
 },
 "nbformat": 4,
 "nbformat_minor": 5
}
